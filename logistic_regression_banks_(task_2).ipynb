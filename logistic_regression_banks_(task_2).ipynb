{
  "nbformat": 4,
  "nbformat_minor": 0,
  "metadata": {
    "colab": {
      "name": "logistic_regression_banks (task 2).ipynb",
      "provenance": [],
      "collapsed_sections": []
    },
    "kernelspec": {
      "name": "python3",
      "display_name": "Python 3"
    },
    "language_info": {
      "name": "python"
    }
  },
  "cells": [
    {
      "cell_type": "markdown",
      "metadata": {
        "id": "XkDSuZE3CU4E"
      },
      "source": [
        "<h1>Задание 2.</h1>\n",
        "<h2>Алгоритм классификации тональности твита на данных\n",
        "соревнования SentiRuEval-2016 (банки)</h2>\n"
      ]
    },
    {
      "cell_type": "code",
      "metadata": {
        "id": "800avbZsTB5h"
      },
      "source": [
        "from lxml import etree\n",
        "import csv\n",
        "import re"
      ],
      "execution_count": null,
      "outputs": []
    },
    {
      "cell_type": "code",
      "metadata": {
        "id": "BkLo28uwTH8s"
      },
      "source": [
        "from typing import List, Tuple"
      ],
      "execution_count": null,
      "outputs": []
    },
    {
      "cell_type": "code",
      "metadata": {
        "id": "zmIBAOCOv478",
        "colab": {
          "base_uri": "https://localhost:8080/"
        },
        "outputId": "7470b2d2-3e24-4afe-84bb-e27fced473b1"
      },
      "source": [
        "pip install spacy_udpipe"
      ],
      "execution_count": null,
      "outputs": [
        {
          "output_type": "stream",
          "name": "stdout",
          "text": [
            "Collecting spacy_udpipe\n",
            "  Downloading spacy_udpipe-1.0.0-py3-none-any.whl (11 kB)\n",
            "Collecting spacy<4.0.0,>=3.0.0\n",
            "  Downloading spacy-3.2.0-cp37-cp37m-manylinux_2_17_x86_64.manylinux2014_x86_64.whl (6.0 MB)\n",
            "\u001b[K     |████████████████████████████████| 6.0 MB 13.8 MB/s \n",
            "\u001b[?25hCollecting ufal.udpipe>=1.2.0\n",
            "  Downloading ufal.udpipe-1.2.0.3.tar.gz (304 kB)\n",
            "\u001b[K     |████████████████████████████████| 304 kB 87.4 MB/s \n",
            "\u001b[?25hCollecting typer<0.5.0,>=0.3.0\n",
            "  Downloading typer-0.4.0-py3-none-any.whl (27 kB)\n",
            "Collecting langcodes<4.0.0,>=3.2.0\n",
            "  Downloading langcodes-3.3.0-py3-none-any.whl (181 kB)\n",
            "\u001b[K     |████████████████████████████████| 181 kB 74.3 MB/s \n",
            "\u001b[?25hRequirement already satisfied: packaging>=20.0 in /usr/local/lib/python3.7/dist-packages (from spacy<4.0.0,>=3.0.0->spacy_udpipe) (21.2)\n",
            "Requirement already satisfied: jinja2 in /usr/local/lib/python3.7/dist-packages (from spacy<4.0.0,>=3.0.0->spacy_udpipe) (2.11.3)\n",
            "Requirement already satisfied: murmurhash<1.1.0,>=0.28.0 in /usr/local/lib/python3.7/dist-packages (from spacy<4.0.0,>=3.0.0->spacy_udpipe) (1.0.6)\n",
            "Requirement already satisfied: tqdm<5.0.0,>=4.38.0 in /usr/local/lib/python3.7/dist-packages (from spacy<4.0.0,>=3.0.0->spacy_udpipe) (4.62.3)\n",
            "Requirement already satisfied: numpy>=1.15.0 in /usr/local/lib/python3.7/dist-packages (from spacy<4.0.0,>=3.0.0->spacy_udpipe) (1.19.5)\n",
            "Collecting thinc<8.1.0,>=8.0.12\n",
            "  Downloading thinc-8.0.13-cp37-cp37m-manylinux_2_17_x86_64.manylinux2014_x86_64.whl (628 kB)\n",
            "\u001b[K     |████████████████████████████████| 628 kB 72.1 MB/s \n",
            "\u001b[?25hRequirement already satisfied: preshed<3.1.0,>=3.0.2 in /usr/local/lib/python3.7/dist-packages (from spacy<4.0.0,>=3.0.0->spacy_udpipe) (3.0.6)\n",
            "Requirement already satisfied: cymem<2.1.0,>=2.0.2 in /usr/local/lib/python3.7/dist-packages (from spacy<4.0.0,>=3.0.0->spacy_udpipe) (2.0.6)\n",
            "Collecting catalogue<2.1.0,>=2.0.6\n",
            "  Downloading catalogue-2.0.6-py3-none-any.whl (17 kB)\n",
            "Collecting pathy>=0.3.5\n",
            "  Downloading pathy-0.6.1-py3-none-any.whl (42 kB)\n",
            "\u001b[K     |████████████████████████████████| 42 kB 1.1 MB/s \n",
            "\u001b[?25hRequirement already satisfied: blis<0.8.0,>=0.4.0 in /usr/local/lib/python3.7/dist-packages (from spacy<4.0.0,>=3.0.0->spacy_udpipe) (0.4.1)\n",
            "Requirement already satisfied: requests<3.0.0,>=2.13.0 in /usr/local/lib/python3.7/dist-packages (from spacy<4.0.0,>=3.0.0->spacy_udpipe) (2.23.0)\n",
            "Collecting spacy-legacy<3.1.0,>=3.0.8\n",
            "  Downloading spacy_legacy-3.0.8-py2.py3-none-any.whl (14 kB)\n",
            "Collecting spacy-loggers<2.0.0,>=1.0.0\n",
            "  Downloading spacy_loggers-1.0.1-py3-none-any.whl (7.0 kB)\n",
            "Collecting pydantic!=1.8,!=1.8.1,<1.9.0,>=1.7.4\n",
            "  Downloading pydantic-1.8.2-cp37-cp37m-manylinux2014_x86_64.whl (10.1 MB)\n",
            "\u001b[K     |████████████████████████████████| 10.1 MB 76.4 MB/s \n",
            "\u001b[?25hRequirement already satisfied: setuptools in /usr/local/lib/python3.7/dist-packages (from spacy<4.0.0,>=3.0.0->spacy_udpipe) (57.4.0)\n",
            "Requirement already satisfied: typing-extensions<4.0.0.0,>=3.7.4 in /usr/local/lib/python3.7/dist-packages (from spacy<4.0.0,>=3.0.0->spacy_udpipe) (3.10.0.2)\n",
            "Requirement already satisfied: wasabi<1.1.0,>=0.8.1 in /usr/local/lib/python3.7/dist-packages (from spacy<4.0.0,>=3.0.0->spacy_udpipe) (0.8.2)\n",
            "Collecting srsly<3.0.0,>=2.4.1\n",
            "  Downloading srsly-2.4.2-cp37-cp37m-manylinux_2_17_x86_64.manylinux2014_x86_64.whl (451 kB)\n",
            "\u001b[K     |████████████████████████████████| 451 kB 72.6 MB/s \n",
            "\u001b[?25hRequirement already satisfied: zipp>=0.5 in /usr/local/lib/python3.7/dist-packages (from catalogue<2.1.0,>=2.0.6->spacy<4.0.0,>=3.0.0->spacy_udpipe) (3.6.0)\n",
            "Requirement already satisfied: pyparsing<3,>=2.0.2 in /usr/local/lib/python3.7/dist-packages (from packaging>=20.0->spacy<4.0.0,>=3.0.0->spacy_udpipe) (2.4.7)\n",
            "Requirement already satisfied: smart-open<6.0.0,>=5.0.0 in /usr/local/lib/python3.7/dist-packages (from pathy>=0.3.5->spacy<4.0.0,>=3.0.0->spacy_udpipe) (5.2.1)\n",
            "Requirement already satisfied: chardet<4,>=3.0.2 in /usr/local/lib/python3.7/dist-packages (from requests<3.0.0,>=2.13.0->spacy<4.0.0,>=3.0.0->spacy_udpipe) (3.0.4)\n",
            "Requirement already satisfied: certifi>=2017.4.17 in /usr/local/lib/python3.7/dist-packages (from requests<3.0.0,>=2.13.0->spacy<4.0.0,>=3.0.0->spacy_udpipe) (2021.10.8)\n",
            "Requirement already satisfied: idna<3,>=2.5 in /usr/local/lib/python3.7/dist-packages (from requests<3.0.0,>=2.13.0->spacy<4.0.0,>=3.0.0->spacy_udpipe) (2.10)\n",
            "Requirement already satisfied: urllib3!=1.25.0,!=1.25.1,<1.26,>=1.21.1 in /usr/local/lib/python3.7/dist-packages (from requests<3.0.0,>=2.13.0->spacy<4.0.0,>=3.0.0->spacy_udpipe) (1.24.3)\n",
            "Requirement already satisfied: click<9.0.0,>=7.1.1 in /usr/local/lib/python3.7/dist-packages (from typer<0.5.0,>=0.3.0->spacy<4.0.0,>=3.0.0->spacy_udpipe) (7.1.2)\n",
            "Requirement already satisfied: MarkupSafe>=0.23 in /usr/local/lib/python3.7/dist-packages (from jinja2->spacy<4.0.0,>=3.0.0->spacy_udpipe) (2.0.1)\n",
            "Building wheels for collected packages: ufal.udpipe\n",
            "  Building wheel for ufal.udpipe (setup.py) ... \u001b[?25l\u001b[?25hdone\n",
            "  Created wheel for ufal.udpipe: filename=ufal.udpipe-1.2.0.3-cp37-cp37m-linux_x86_64.whl size=5626738 sha256=9966a3dc7ec3b005ab2a64e709651e4fa9badffba348a7adbfb9dde40bc0e68e\n",
            "  Stored in directory: /root/.cache/pip/wheels/b8/b5/8e/3da091629a21ce2d10bf90759d0cb034ba10a5cf7a01e83d64\n",
            "Successfully built ufal.udpipe\n",
            "Installing collected packages: catalogue, typer, srsly, pydantic, thinc, spacy-loggers, spacy-legacy, pathy, langcodes, ufal.udpipe, spacy, spacy-udpipe\n",
            "  Attempting uninstall: catalogue\n",
            "    Found existing installation: catalogue 1.0.0\n",
            "    Uninstalling catalogue-1.0.0:\n",
            "      Successfully uninstalled catalogue-1.0.0\n",
            "  Attempting uninstall: srsly\n",
            "    Found existing installation: srsly 1.0.5\n",
            "    Uninstalling srsly-1.0.5:\n",
            "      Successfully uninstalled srsly-1.0.5\n",
            "  Attempting uninstall: thinc\n",
            "    Found existing installation: thinc 7.4.0\n",
            "    Uninstalling thinc-7.4.0:\n",
            "      Successfully uninstalled thinc-7.4.0\n",
            "  Attempting uninstall: spacy\n",
            "    Found existing installation: spacy 2.2.4\n",
            "    Uninstalling spacy-2.2.4:\n",
            "      Successfully uninstalled spacy-2.2.4\n",
            "Successfully installed catalogue-2.0.6 langcodes-3.3.0 pathy-0.6.1 pydantic-1.8.2 spacy-3.2.0 spacy-legacy-3.0.8 spacy-loggers-1.0.1 spacy-udpipe-1.0.0 srsly-2.4.2 thinc-8.0.13 typer-0.4.0 ufal.udpipe-1.2.0.3\n"
          ]
        }
      ]
    },
    {
      "cell_type": "code",
      "metadata": {
        "colab": {
          "base_uri": "https://localhost:8080/"
        },
        "id": "gUfuT7QCrpFb",
        "outputId": "96bf2bf8-affc-49dd-cb24-db591274e4b9"
      },
      "source": [
        "import spacy_udpipe\n",
        "\n",
        "spacy_udpipe.download(\"ru\") \n",
        "nlp = spacy_udpipe.load(\"ru\")"
      ],
      "execution_count": null,
      "outputs": [
        {
          "output_type": "stream",
          "name": "stdout",
          "text": [
            "Downloaded pre-trained UDPipe model for 'ru' language\n"
          ]
        }
      ]
    },
    {
      "cell_type": "markdown",
      "metadata": {
        "id": "E8SAP0EXRTMG"
      },
      "source": [
        "Загружаем словарь оценочных слов и выражений русского языка [РуСентиЛекс](http://www.labinform.ru/pub/rusentilex/index.htm)"
      ]
    },
    {
      "cell_type": "code",
      "metadata": {
        "id": "sxQd2nO6Hnfz"
      },
      "source": [
        "def load_emotions(filename:str) -> Tuple[List[str],List[str],List[str]]:\n",
        "  with open(filename, encoding=\"utf-8\") as file:\n",
        "    all_words = csv.DictReader(file)\n",
        "    positive_list=[]\n",
        "    negative_list=[]\n",
        "    neutral_list=[]\n",
        "    for row in all_words:\n",
        "                row = list(row.values())[0].split(';')\n",
        "                if 'PSTV' in row:\n",
        "                    positive_list.append(row[0])\n",
        "                elif 'NGTV' in row:\n",
        "                    negative_list.append(row[0])\n",
        "                elif 'NEUT' in row:\n",
        "                    neutral_list.append(row[0])\n",
        "  return positive_list,negative_list,neutral_list"
      ],
      "execution_count": null,
      "outputs": []
    },
    {
      "cell_type": "code",
      "metadata": {
        "id": "r1Y0UMBNNxyr"
      },
      "source": [
        "positive_list,negative_list,neutral_list=load_emotions('emo_dict.csv')"
      ],
      "execution_count": null,
      "outputs": []
    },
    {
      "cell_type": "markdown",
      "metadata": {
        "id": "QTS37G7TSKJM"
      },
      "source": [
        "Загружаем [список](https://habr.com/ru/post/21949/) стран, городов и регионов"
      ]
    },
    {
      "cell_type": "code",
      "metadata": {
        "id": "Vjmhg2hsKRLr"
      },
      "source": [
        " def load_places(filename:str) -> List[str]:\n",
        "  places=[]\n",
        "  with open(filename, mode='rb') as fp:\n",
        "        xml_data = fp.read()\n",
        "        root = etree.fromstring(xml_data)\n",
        "        for place in root.getchildren():\n",
        "              for row in place.getchildren():\n",
        "                if row.tag=='name':\n",
        "                    places.append(row.text.lower())\n",
        "  return places"
      ],
      "execution_count": null,
      "outputs": []
    },
    {
      "cell_type": "code",
      "metadata": {
        "id": "Gch9uZ1aN36l"
      },
      "source": [
        "places=load_places('rocid.xml')"
      ],
      "execution_count": null,
      "outputs": []
    },
    {
      "cell_type": "code",
      "metadata": {
        "id": "YsUR4c8lN6kc"
      },
      "source": [
        "extract=[('telegram',re.compile('(http[s]?:)?\\/\\/t\\.co')),('hashtag',re.compile('#.?'))]\n",
        "delete=[('number',re.compile('[+-]?[0-9\\-\\.,]+[%]?')), ('url', re.compile('http')),('mention',re.compile('@.+')),('e-mail', re.compile('.+@.+\\.')),('hashtag',re.compile('#.?'))]"
      ],
      "execution_count": null,
      "outputs": []
    },
    {
      "cell_type": "code",
      "metadata": {
        "id": "AnZ1RS6aZI_u"
      },
      "source": [
        "def load_sentirueval_2016(file_name: str) -> Tuple[List[str], List[str]]:\n",
        "    texts = []\n",
        "    labels = []\n",
        "    vectors=[]\n",
        "    with open(file_name, mode='rb') as fp:\n",
        "        xml_data = fp.read()\n",
        "    root = etree.fromstring(xml_data)\n",
        "    for database in root.getchildren():\n",
        "        if database.tag == 'database':\n",
        "            for table in database.getchildren():\n",
        "                if table.tag != 'table':\n",
        "                    continue\n",
        "                new_text = None\n",
        "                new_label = None\n",
        "                for column in table.getchildren():\n",
        "                    if column.get('name') == 'text':\n",
        "                        #лемматизация\n",
        "                        new_text,vector = lemmatize(str(column.text).strip())\n",
        "                        if new_label is not None:\n",
        "                            break\n",
        "                    elif column.get('name') not in {'id', 'twitid', 'date'}:\n",
        "                        if new_label is None:\n",
        "                            label_candidate = str(column.text).strip()\n",
        "                            if label_candidate in {'0', '1', '-1'}:\n",
        "                                new_label = 'negative' if label_candidate == '-1' else \\\n",
        "                                    ('positive' if label_candidate == '1' else 'neutral')\n",
        "                                if new_text is not None:\n",
        "                                    break\n",
        "                if (new_text is None) or (new_label is None):\n",
        "                    raise ValueError('File `{0}` contains some error!'.format(file_name))\n",
        "                texts.append(new_text)\n",
        "                vectors.append(vector)\n",
        "                labels.append(new_label)\n",
        "            break\n",
        "    return texts, vectors,labels"
      ],
      "execution_count": null,
      "outputs": []
    },
    {
      "cell_type": "code",
      "metadata": {
        "id": "uERArJtfZAij"
      },
      "source": [
        "def lemmatize(text:str) -> Tuple[str,List[int]]:\n",
        "   text_lemmatized=[]\n",
        "   vector=[]\n",
        "   geo=0\n",
        "   positive=0\n",
        "   negative=0\n",
        "   neutral=0\n",
        "   excl=0\n",
        "   doc = nlp(text.lower())\n",
        "   #добавляем бинарные признаки наличия ссылки на телеграм-канал и хештега\n",
        "   for element in extract:\n",
        "       if element[1].search(text):\n",
        "         vector.append(1)\n",
        "       else:\n",
        "         vector.append(0)\n",
        "   for token in doc:\n",
        "     lemma=token.lemma_\n",
        "     #удаляем геграфические названия и записываем их наличие\n",
        "     if lemma in places:\n",
        "       geo=1\n",
        "       lemma=''\n",
        "    #добавляем бинарные признаки наличия эмоциональных слов\n",
        "     if lemma in positive_list:\n",
        "      positive=1\n",
        "     if lemma in negative_list:\n",
        "      negative=1\n",
        "     if lemma in neutral_list:\n",
        "      neutral=1\n",
        "    #добавляем бинарный признак наличия восклицательного знака\n",
        "     if lemma == '!':\n",
        "       excl=1\n",
        "     #удаляем лишнее\n",
        "     for element in delete:\n",
        "       if element[1].match(lemma):\n",
        "         lemma=''\n",
        "     #удаляем элементы, для которых часть речи не определилась\n",
        "     if token.pos_=='X':\n",
        "       lemma=''\n",
        "     text_lemmatized.append(lemma)\n",
        "   vector.extend([geo,positive,negative,neutral,excl])\n",
        "   return  ' '.join(text_lemmatized),vector\n",
        "  "
      ],
      "execution_count": null,
      "outputs": []
    },
    {
      "cell_type": "code",
      "metadata": {
        "id": "EercFs4Vshfj"
      },
      "source": [
        "from sklearn.base import BaseEstimator, TransformerMixin"
      ],
      "execution_count": null,
      "outputs": []
    },
    {
      "cell_type": "code",
      "metadata": {
        "id": "k2OeBUY5r17h"
      },
      "source": [
        "class MyVectorizer(BaseEstimator,TransformerMixin):\n",
        "  def __init__(self,vectors):\n",
        "    self.vectors=vectors\n",
        "    self.features=['telegram','hashtag','geo','positive','negative','neutral','exclamation']\n",
        "  def fit(self, X, y=None):\n",
        "    return self\n",
        "  def transform(self, X, y=None):\n",
        "    return self.vectors\n",
        "  def get_feature_names(self):\n",
        "    return self.features"
      ],
      "execution_count": null,
      "outputs": []
    },
    {
      "cell_type": "code",
      "metadata": {
        "id": "rHiA02A3vH_5"
      },
      "source": [
        "from sklearn.metrics import roc_curve\n",
        "import numpy as np\n",
        "import matplotlib.pyplot as plt"
      ],
      "execution_count": null,
      "outputs": []
    },
    {
      "cell_type": "code",
      "metadata": {
        "id": "N8NmDO6NkmrM"
      },
      "source": [
        "def build_roc_curve(probabilities,classifier:str,parameter_search:str):\n",
        "  y_true_positives = list(map(lambda it: 1 if it == 'positive' else 0, labels_for_testing))\n",
        "  y_score_positives = probabilities[:, classes_list.index('positive')]\n",
        "  fpr_positives, tpr_positives, _, = roc_curve(y_true_positives, y_score_positives)\n",
        "  y_true_negatives = list(map(lambda it: 1 if it == 'negative' else 0, labels_for_testing))\n",
        "  y_score_negatives = probabilities[:, classes_list.index('negative')]\n",
        "  fpr_negatives, tpr_negatives, _, = roc_curve(y_true_negatives, y_score_negatives)\n",
        "  y_true_neutrals = list(map(lambda it: 1 if it == 'neutral' else 0, labels_for_testing))\n",
        "  y_score_neutrals = probabilities[:, classes_list.index('neutral')]\n",
        "  fpr_neutrals, tpr_neutrals, _, = roc_curve(y_true_neutrals, y_score_neutrals)\n",
        "  plt.plot([0, 1], [0, 1], 'k--')\n",
        "  plt.plot(fpr_positives, tpr_positives, label='Positive Sentiment')\n",
        "  plt.plot(fpr_negatives, tpr_negatives, label='Negative Sentiment')\n",
        "  plt.plot(fpr_neutrals, tpr_neutrals, label='Neutral Sentiment')\n",
        "  plt.xlabel('False positive rate')\n",
        "  plt.ylabel('True positive rate')\n",
        "  plt.title(f'ROC curve for {classifier}, parameter search with {parameter_search} ')\n",
        "  plt.legend(loc='best')\n",
        "  "
      ],
      "execution_count": null,
      "outputs": []
    },
    {
      "cell_type": "code",
      "metadata": {
        "id": "9qGKK2stiXvu"
      },
      "source": [
        "from sklearn.metrics import precision_score, recall_score\n",
        "from sklearn.metrics import confusion_matrix"
      ],
      "execution_count": null,
      "outputs": []
    },
    {
      "cell_type": "code",
      "metadata": {
        "id": "-L-y_I81hc3f"
      },
      "source": [
        "def recall(tp:int,fn:int) ->int:\n",
        "  return tp/(tp+fn)\n",
        "def precision(tp:int,fp:int) ->int:\n",
        "  return tp/(tp+fp)\n",
        "def f1(precision:int,recall:int) ->int:\n",
        "  return 2*precision*recall/(precision+recall)"
      ],
      "execution_count": null,
      "outputs": []
    },
    {
      "cell_type": "code",
      "metadata": {
        "id": "rmB4wR-Nq-lo"
      },
      "source": [
        "def count_metrics(labels_for_testing, predicted_labels:List[str]) -> Tuple[int,int]:\n",
        "  cm=confusion_matrix(labels_for_testing, predicted_labels)\n",
        "  negative_tp=cm[0][0]\n",
        "  negative_fn=cm[0][1]+cm[0][2]\n",
        "  negative_fp=cm[1][0]+cm[2][0]\n",
        "  negative_recall=recall(negative_tp,negative_fn)\n",
        "  negative_precision=precision(negative_tp,negative_fp)\n",
        "  negative_f1=f1(negative_precision,negative_recall)\n",
        "  negative_recall,negative_precision,negative_f1\n",
        "  positive_tp=cm[2][2]\n",
        "  positive_fn=cm[2][0]+cm[2][1]\n",
        "  positive_fp=cm[0][2]+cm[1][2]\n",
        "  positive_recall=recall(positive_tp,positive_fn)\n",
        "  positive_precision=precision(positive_tp,positive_fp)\n",
        "  positive_f1=f1(positive_precision,positive_recall)\n",
        "  positive_recall,positive_precision,positive_f1\n",
        "  f1_macro=(positive_f1+negative_f1)/2\n",
        "  precision_micro=precision(negative_tp+positive_tp,negative_fp+positive_fp)\n",
        "  recall_micro=recall(negative_tp+positive_tp,negative_fn+positive_fn)\n",
        "  f1_micro=f1(precision_micro,recall_micro)\n",
        "  return round(f1_macro,3), round(f1_micro,3)"
      ],
      "execution_count": null,
      "outputs": []
    },
    {
      "cell_type": "markdown",
      "metadata": {
        "id": "TV4_rADPB1Eu"
      },
      "source": [
        "<h1>Извлечение признаков</h1>"
      ]
    },
    {
      "cell_type": "code",
      "metadata": {
        "id": "uDKNPGoNZUbx"
      },
      "source": [
        "texts, vectors,labels=load_sentirueval_2016('bank_train_2016.xml')"
      ],
      "execution_count": null,
      "outputs": []
    },
    {
      "cell_type": "code",
      "metadata": {
        "id": "Aide6G9H1fU8"
      },
      "source": [
        "from sklearn.feature_extraction.text import CountVectorizer,TfidfTransformer"
      ],
      "execution_count": null,
      "outputs": []
    },
    {
      "cell_type": "code",
      "metadata": {
        "id": "RSKqYWpP1mnu"
      },
      "source": [
        "vectorizer = CountVectorizer(lowercase=True, min_df=3)"
      ],
      "execution_count": null,
      "outputs": []
    },
    {
      "cell_type": "code",
      "metadata": {
        "colab": {
          "base_uri": "https://localhost:8080/"
        },
        "id": "XK1ul7zFZhD1",
        "outputId": "05f3766c-c67c-44f5-c97a-0e34df2ff740"
      },
      "source": [
        "vectorizer.fit(texts)"
      ],
      "execution_count": null,
      "outputs": [
        {
          "output_type": "execute_result",
          "data": {
            "text/plain": [
              "CountVectorizer(min_df=3)"
            ]
          },
          "metadata": {},
          "execution_count": 23
        }
      ]
    },
    {
      "cell_type": "code",
      "metadata": {
        "id": "Urtww6e8Zhlw"
      },
      "source": [
        "X=vectorizer.transform(texts)"
      ],
      "execution_count": null,
      "outputs": []
    },
    {
      "cell_type": "code",
      "metadata": {
        "id": "gGRHqQzIZm-g"
      },
      "source": [
        "tfidf=TfidfTransformer()"
      ],
      "execution_count": null,
      "outputs": []
    },
    {
      "cell_type": "code",
      "metadata": {
        "id": "PEuroGo03YWy"
      },
      "source": [
        "from sklearn.pipeline import FeatureUnion"
      ],
      "execution_count": null,
      "outputs": []
    },
    {
      "cell_type": "code",
      "metadata": {
        "id": "pyQe72fQZntK"
      },
      "source": [
        "transformer =FeatureUnion([('tfidf',tfidf),('myvec',MyVectorizer(vectors))])"
      ],
      "execution_count": null,
      "outputs": []
    },
    {
      "cell_type": "code",
      "metadata": {
        "colab": {
          "base_uri": "https://localhost:8080/"
        },
        "id": "n8S_dn2wZs1l",
        "outputId": "ea697340-6af6-44ca-ed12-74c4f8eebd2e"
      },
      "source": [
        "transformer.fit(X)"
      ],
      "execution_count": null,
      "outputs": [
        {
          "output_type": "execute_result",
          "data": {
            "text/plain": [
              "FeatureUnion(transformer_list=[('tfidf', TfidfTransformer()),\n",
              "                               ('myvec',\n",
              "                                MyVectorizer(vectors=[[1, 0, 1, 0, 1, 1, 0],\n",
              "                                                      [1, 0, 0, 0, 1, 1, 0],\n",
              "                                                      [0, 0, 0, 1, 1, 1, 0],\n",
              "                                                      [1, 0, 1, 1, 1, 1, 0],\n",
              "                                                      [0, 0, 1, 0, 0, 1, 1],\n",
              "                                                      [1, 0, 1, 0, 1, 1, 0],\n",
              "                                                      [1, 0, 0, 1, 0, 0, 0],\n",
              "                                                      [1, 0, 1, 0, 1, 1, 0],\n",
              "                                                      [1, 0, 0, 0, 1, 1, 0],\n",
              "                                                      [1, 0, 1, 0, 1, 1, 0],\n",
              "                                                      [0, 0, 1, 1, 0, 1, 0],\n",
              "                                                      [1, 0, 1, 0, 1, 1, 0],\n",
              "                                                      [1, 0, 0, 0, 1, 1, 0],\n",
              "                                                      [1, 0, 1, 0, 1, 1, 0],\n",
              "                                                      [0, 0, 0, 0, 0, 1, 1],\n",
              "                                                      [1, 0, 1, 0, 1, 0, 0],\n",
              "                                                      [1, 0, 1, 0, 1, 0, 0],\n",
              "                                                      [1, 0, 1, 0, 1, 1, 0],\n",
              "                                                      [0, 0, 0, 0, 1, 1, 0],\n",
              "                                                      [1, 0, 0, 0, 1, 1, 0],\n",
              "                                                      [1, 0, 1, 1, 1, 1, 0],\n",
              "                                                      [1, 0, 1, 0, 1, 1, 0],\n",
              "                                                      [1, 0, 0, 1, 1, 1, 0],\n",
              "                                                      [1, 0, 1, 0, 0, 1, 0],\n",
              "                                                      [1, 0, 1, 0, 1, 1, 0],\n",
              "                                                      [1, 0, 0, 0, 1, 1, 0],\n",
              "                                                      [0, 0, 0, 0, 0, 1, 0],\n",
              "                                                      [1, 0, 1, 0, 1, 1, 0],\n",
              "                                                      [1, 0, 0, 0, 1, 1, 0],\n",
              "                                                      [1, 0, 0, 0, 1, 1, 0], ...]))])"
            ]
          },
          "metadata": {},
          "execution_count": 28
        }
      ]
    },
    {
      "cell_type": "code",
      "metadata": {
        "id": "TDw_V9f_Z1e4"
      },
      "source": [
        "X_transformed = transformer.transform(X)"
      ],
      "execution_count": null,
      "outputs": []
    },
    {
      "cell_type": "code",
      "metadata": {
        "id": "0w8XfYn_2mUB"
      },
      "source": [
        "from sklearn.feature_selection import SelectPercentile, chi2"
      ],
      "execution_count": null,
      "outputs": []
    },
    {
      "cell_type": "code",
      "metadata": {
        "id": "z645I9w_2ngD"
      },
      "source": [
        "selector = SelectPercentile(chi2, percentile=20)"
      ],
      "execution_count": null,
      "outputs": []
    },
    {
      "cell_type": "code",
      "metadata": {
        "colab": {
          "base_uri": "https://localhost:8080/"
        },
        "id": "WMkfmqEhZ6zD",
        "outputId": "33797019-1abd-4d0a-f864-1159d1613bb6"
      },
      "source": [
        "selector.fit(X_transformed, labels)"
      ],
      "execution_count": null,
      "outputs": [
        {
          "output_type": "execute_result",
          "data": {
            "text/plain": [
              "SelectPercentile(percentile=20, score_func=<function chi2 at 0x7f391763f830>)"
            ]
          },
          "metadata": {},
          "execution_count": 32
        }
      ]
    },
    {
      "cell_type": "code",
      "metadata": {
        "id": "nl7_L0qdJLzS"
      },
      "source": [
        "X_transformed_and_selected = selector.transform(X_transformed)"
      ],
      "execution_count": null,
      "outputs": []
    },
    {
      "cell_type": "markdown",
      "metadata": {
        "id": "yOq85qguBnpZ"
      },
      "source": [
        "<h1>Классификация</h1>"
      ]
    },
    {
      "cell_type": "code",
      "metadata": {
        "id": "LnAbDc_suCs8"
      },
      "source": [
        "from sklearn.model_selection import GridSearchCV\n",
        "from sklearn.metrics import make_scorer\n",
        "from sklearn.metrics import f1_score\n",
        "from sklearn.linear_model import LogisticRegression"
      ],
      "execution_count": null,
      "outputs": []
    },
    {
      "cell_type": "markdown",
      "metadata": {
        "id": "Yza9oIvPuQNo"
      },
      "source": [
        "1. Логистическая регрессия с  **“пакетной”**\n",
        "градиентной оптимизацей при обучении с подбором гиперпараметров с помощью **перебора**"
      ]
    },
    {
      "cell_type": "code",
      "metadata": {
        "id": "vIpkTXfrIwtC"
      },
      "source": [
        "f1_macro_scorer = make_scorer(f1_score, average='macro')\n",
        "grid_logreg = GridSearchCV(\n",
        "    estimator=LogisticRegression(solver='liblinear'),\n",
        "    param_grid={'C': [1e-2, 1e-1, 1, 1e+1, 1e+2, 1e+3], 'penalty': ['l1', 'l2']},\n",
        "    scoring=f1_macro_scorer,\n",
        "    n_jobs=-1\n",
        ")"
      ],
      "execution_count": null,
      "outputs": []
    },
    {
      "cell_type": "code",
      "metadata": {
        "id": "6t6z6_BZMWRJ"
      },
      "source": [
        "from time import time"
      ],
      "execution_count": null,
      "outputs": []
    },
    {
      "cell_type": "code",
      "metadata": {
        "id": "j50m60BAJG9f"
      },
      "source": [
        "before=time()\n",
        "grid_logreg.fit(X_transformed_and_selected, labels)\n",
        "time_passed_grid_1=time()-before"
      ],
      "execution_count": null,
      "outputs": []
    },
    {
      "cell_type": "code",
      "metadata": {
        "colab": {
          "base_uri": "https://localhost:8080/"
        },
        "id": "sw5a1OaWJi1t",
        "outputId": "aa89e70e-28fe-432f-9d7c-a3209dff3474"
      },
      "source": [
        "print(grid_logreg.best_params_)"
      ],
      "execution_count": null,
      "outputs": [
        {
          "output_type": "stream",
          "name": "stdout",
          "text": [
            "{'C': 10.0, 'penalty': 'l1'}\n"
          ]
        }
      ]
    },
    {
      "cell_type": "code",
      "metadata": {
        "colab": {
          "base_uri": "https://localhost:8080/"
        },
        "id": "mUsAyGH3JrjM",
        "outputId": "0648d6d3-538b-4269-d626-355a0e568dbb"
      },
      "source": [
        "cls_logreg_grid = LogisticRegression(solver='liblinear', verbose=True, C=10.0, penalty='l1')\n",
        "before=time()\n",
        "cls_logreg_grid.fit(X_transformed_and_selected, labels)\n",
        "time_passed_logreg_1=time()-before"
      ],
      "execution_count": null,
      "outputs": [
        {
          "output_type": "stream",
          "name": "stdout",
          "text": [
            "[LibLinear]"
          ]
        }
      ]
    },
    {
      "cell_type": "code",
      "metadata": {
        "id": "2P993NzXMqih"
      },
      "source": [
        "texts_for_testing, vectors_for_testing ,labels_for_testing = load_sentirueval_2016('banks_test_etalon.xml')"
      ],
      "execution_count": null,
      "outputs": []
    },
    {
      "cell_type": "code",
      "metadata": {
        "id": "Wx-tFtnlg5Y-"
      },
      "source": [
        "transformer =FeatureUnion([('tfidf',tfidf),('myvec',MyVectorizer(vectors_for_testing))])"
      ],
      "execution_count": null,
      "outputs": []
    },
    {
      "cell_type": "markdown",
      "metadata": {
        "id": "bduT4yXKE4kB"
      },
      "source": [
        ""
      ]
    },
    {
      "cell_type": "code",
      "metadata": {
        "id": "K2W4PD0UJwHO"
      },
      "source": [
        "from sklearn.pipeline import Pipeline\n",
        "\n",
        "pipeline_logreg_grid = Pipeline(\n",
        "    [\n",
        "        ('vectorizer', vectorizer),\n",
        "        ('additional_features', transformer),\n",
        "        ('selector', selector),\n",
        "        ('final_classifier', cls_logreg_grid)\n",
        "    ]\n",
        ")"
      ],
      "execution_count": null,
      "outputs": []
    },
    {
      "cell_type": "code",
      "metadata": {
        "id": "1DdY6A-ZMfeE"
      },
      "source": [
        "probabilities_logreg_grid = pipeline_logreg_grid.predict_proba(texts_for_testing)"
      ],
      "execution_count": null,
      "outputs": []
    },
    {
      "cell_type": "code",
      "metadata": {
        "id": "PicMEdHE_BEQ"
      },
      "source": [
        "predicted_labels_logreg_grid=pipeline_logreg_grid.predict(texts_for_testing)"
      ],
      "execution_count": null,
      "outputs": []
    },
    {
      "cell_type": "code",
      "metadata": {
        "id": "qigORYJphPF5"
      },
      "source": [
        "classes_list = list(cls_logreg_grid.classes_)"
      ],
      "execution_count": null,
      "outputs": []
    },
    {
      "cell_type": "markdown",
      "metadata": {
        "id": "4OvypOJ9vToj"
      },
      "source": [
        "2. Логистическая регрессия со **стохастической** градиентной оптимизацей при обучении с подбором гиперпараметров с помощью **перебора**\n",
        "\n"
      ]
    },
    {
      "cell_type": "code",
      "metadata": {
        "id": "pTzVw8w9nxU1"
      },
      "source": [
        "from sklearn.linear_model import SGDClassifier"
      ],
      "execution_count": null,
      "outputs": []
    },
    {
      "cell_type": "code",
      "metadata": {
        "id": "wveMmCZxn6bb"
      },
      "source": [
        "grid_sgd = GridSearchCV(\n",
        "    estimator=SGDClassifier(loss='log'),\n",
        "    param_grid={'alpha': [1e-4,1e-3,1e-2, 1e-1], 'penalty': ['l1', 'l2']},\n",
        "    scoring=f1_macro_scorer,\n",
        "    n_jobs=-1\n",
        ")"
      ],
      "execution_count": null,
      "outputs": []
    },
    {
      "cell_type": "code",
      "metadata": {
        "id": "3LuGz5WIBwca"
      },
      "source": [
        "from time import time"
      ],
      "execution_count": null,
      "outputs": []
    },
    {
      "cell_type": "code",
      "metadata": {
        "id": "9DNWpRWroWRD"
      },
      "source": [
        "before=time()\n",
        "grid_sgd.fit(X_transformed_and_selected, labels)\n",
        "time_passed_grid_2=time()-before"
      ],
      "execution_count": null,
      "outputs": []
    },
    {
      "cell_type": "code",
      "metadata": {
        "colab": {
          "base_uri": "https://localhost:8080/"
        },
        "id": "-16MQOlpr1-y",
        "outputId": "f10d9140-57a4-40bc-c02b-6c0e163449fb"
      },
      "source": [
        "grid_sgd.best_params_"
      ],
      "execution_count": null,
      "outputs": [
        {
          "output_type": "execute_result",
          "data": {
            "text/plain": [
              "{'alpha': 0.0001, 'penalty': 'l1'}"
            ]
          },
          "metadata": {},
          "execution_count": 50
        }
      ]
    },
    {
      "cell_type": "code",
      "metadata": {
        "id": "dupPCRyMsBNv"
      },
      "source": [
        "cls_sgd_grid = SGDClassifier(loss='log', alpha= 0.0001, penalty= 'l1')\n",
        "before=time()\n",
        "cls_sgd_grid.fit(X_transformed_and_selected, labels)\n",
        "time_passed_sgd_1=time()-before"
      ],
      "execution_count": null,
      "outputs": []
    },
    {
      "cell_type": "code",
      "metadata": {
        "id": "qRJs24-jse2V"
      },
      "source": [
        "pipeline_sgd_grid = Pipeline(\n",
        "    [\n",
        "        ('vectorizer', vectorizer),\n",
        "        ('additional_features', transformer),\n",
        "        ('selector', selector),\n",
        "        ('final_classifier',cls_sgd_grid)\n",
        "    ]\n",
        ")"
      ],
      "execution_count": null,
      "outputs": []
    },
    {
      "cell_type": "code",
      "metadata": {
        "id": "Py9kjWmnsv1G"
      },
      "source": [
        "probabilities_sgd_grid = pipeline_sgd_grid.predict_proba(texts_for_testing)"
      ],
      "execution_count": null,
      "outputs": []
    },
    {
      "cell_type": "code",
      "metadata": {
        "id": "eFNZfReytkGF"
      },
      "source": [
        "predicted_labels_sgd_grid = pipeline_sgd_grid.predict(texts_for_testing)"
      ],
      "execution_count": null,
      "outputs": []
    },
    {
      "cell_type": "markdown",
      "metadata": {
        "id": "u8vXU7iCvewk"
      },
      "source": [
        "3. Логистическая регрессия с **“пакетной”** градиентной оптимизацей при обучении с подбором гиперпараметров с помощью **Байесовской оптимизации**"
      ]
    },
    {
      "cell_type": "code",
      "metadata": {
        "id": "uPS5_p01S-vP",
        "colab": {
          "base_uri": "https://localhost:8080/"
        },
        "outputId": "51ffa6bd-a466-498e-ea8f-1ea47fab1e3c"
      },
      "source": [
        "pip install scikit-optimize"
      ],
      "execution_count": null,
      "outputs": [
        {
          "output_type": "stream",
          "name": "stdout",
          "text": [
            "Collecting scikit-optimize\n",
            "  Downloading scikit_optimize-0.9.0-py2.py3-none-any.whl (100 kB)\n",
            "\u001b[?25l\r\u001b[K     |███▎                            | 10 kB 27.6 MB/s eta 0:00:01\r\u001b[K     |██████▌                         | 20 kB 34.8 MB/s eta 0:00:01\r\u001b[K     |█████████▉                      | 30 kB 35.1 MB/s eta 0:00:01\r\u001b[K     |█████████████                   | 40 kB 23.0 MB/s eta 0:00:01\r\u001b[K     |████████████████▍               | 51 kB 17.5 MB/s eta 0:00:01\r\u001b[K     |███████████████████▋            | 61 kB 12.5 MB/s eta 0:00:01\r\u001b[K     |██████████████████████▉         | 71 kB 13.7 MB/s eta 0:00:01\r\u001b[K     |██████████████████████████▏     | 81 kB 15.1 MB/s eta 0:00:01\r\u001b[K     |█████████████████████████████▍  | 92 kB 13.2 MB/s eta 0:00:01\r\u001b[K     |████████████████████████████████| 100 kB 5.2 MB/s \n",
            "\u001b[?25hCollecting pyaml>=16.9\n",
            "  Downloading pyaml-21.10.1-py2.py3-none-any.whl (24 kB)\n",
            "Requirement already satisfied: scikit-learn>=0.20.0 in /usr/local/lib/python3.7/dist-packages (from scikit-optimize) (1.0.1)\n",
            "Requirement already satisfied: scipy>=0.19.1 in /usr/local/lib/python3.7/dist-packages (from scikit-optimize) (1.4.1)\n",
            "Requirement already satisfied: joblib>=0.11 in /usr/local/lib/python3.7/dist-packages (from scikit-optimize) (1.1.0)\n",
            "Requirement already satisfied: numpy>=1.13.3 in /usr/local/lib/python3.7/dist-packages (from scikit-optimize) (1.19.5)\n",
            "Requirement already satisfied: PyYAML in /usr/local/lib/python3.7/dist-packages (from pyaml>=16.9->scikit-optimize) (3.13)\n",
            "Requirement already satisfied: threadpoolctl>=2.0.0 in /usr/local/lib/python3.7/dist-packages (from scikit-learn>=0.20.0->scikit-optimize) (3.0.0)\n",
            "Installing collected packages: pyaml, scikit-optimize\n",
            "Successfully installed pyaml-21.10.1 scikit-optimize-0.9.0\n"
          ]
        }
      ]
    },
    {
      "cell_type": "code",
      "metadata": {
        "id": "-d-b0NGiSw3l"
      },
      "source": [
        "from skopt import BayesSearchCV"
      ],
      "execution_count": null,
      "outputs": []
    },
    {
      "cell_type": "code",
      "metadata": {
        "id": "6y1aoaVnSRtq"
      },
      "source": [
        "bayes_logreg = BayesSearchCV(LogisticRegression(solver='liblinear'),\n",
        "{\n",
        "'C': [1e-2, 1e-1, 1, 1e+1, 1e+2, 1e+3],'penalty': ['l1', 'l2']},\n",
        "n_iter=32,\n",
        "random_state=0,\n",
        "n_jobs=-1)"
      ],
      "execution_count": null,
      "outputs": []
    },
    {
      "cell_type": "code",
      "metadata": {
        "id": "qrOHd-xYU4CS",
        "colab": {
          "base_uri": "https://localhost:8080/"
        },
        "outputId": "4037e9df-3d66-4bbb-f305-232cdd5e5996"
      },
      "source": [
        "before=time()\n",
        "bayes_logreg.fit(X_transformed_and_selected, labels)\n",
        "time_passed_bayes_1=time()-before"
      ],
      "execution_count": null,
      "outputs": [
        {
          "output_type": "stream",
          "name": "stderr",
          "text": [
            "/usr/local/lib/python3.7/dist-packages/skopt/optimizer/optimizer.py:449: UserWarning: The objective has been evaluated at this point before.\n",
            "  warnings.warn(\"The objective has been evaluated \"\n",
            "/usr/local/lib/python3.7/dist-packages/skopt/optimizer/optimizer.py:449: UserWarning: The objective has been evaluated at this point before.\n",
            "  warnings.warn(\"The objective has been evaluated \"\n",
            "/usr/local/lib/python3.7/dist-packages/skopt/optimizer/optimizer.py:449: UserWarning: The objective has been evaluated at this point before.\n",
            "  warnings.warn(\"The objective has been evaluated \"\n",
            "/usr/local/lib/python3.7/dist-packages/skopt/optimizer/optimizer.py:449: UserWarning: The objective has been evaluated at this point before.\n",
            "  warnings.warn(\"The objective has been evaluated \"\n",
            "/usr/local/lib/python3.7/dist-packages/skopt/optimizer/optimizer.py:449: UserWarning: The objective has been evaluated at this point before.\n",
            "  warnings.warn(\"The objective has been evaluated \"\n",
            "/usr/local/lib/python3.7/dist-packages/skopt/optimizer/optimizer.py:449: UserWarning: The objective has been evaluated at this point before.\n",
            "  warnings.warn(\"The objective has been evaluated \"\n",
            "/usr/local/lib/python3.7/dist-packages/skopt/optimizer/optimizer.py:449: UserWarning: The objective has been evaluated at this point before.\n",
            "  warnings.warn(\"The objective has been evaluated \"\n",
            "/usr/local/lib/python3.7/dist-packages/skopt/optimizer/optimizer.py:449: UserWarning: The objective has been evaluated at this point before.\n",
            "  warnings.warn(\"The objective has been evaluated \"\n",
            "/usr/local/lib/python3.7/dist-packages/skopt/optimizer/optimizer.py:449: UserWarning: The objective has been evaluated at this point before.\n",
            "  warnings.warn(\"The objective has been evaluated \"\n",
            "/usr/local/lib/python3.7/dist-packages/skopt/optimizer/optimizer.py:449: UserWarning: The objective has been evaluated at this point before.\n",
            "  warnings.warn(\"The objective has been evaluated \"\n",
            "/usr/local/lib/python3.7/dist-packages/skopt/optimizer/optimizer.py:449: UserWarning: The objective has been evaluated at this point before.\n",
            "  warnings.warn(\"The objective has been evaluated \"\n",
            "/usr/local/lib/python3.7/dist-packages/skopt/optimizer/optimizer.py:449: UserWarning: The objective has been evaluated at this point before.\n",
            "  warnings.warn(\"The objective has been evaluated \"\n",
            "/usr/local/lib/python3.7/dist-packages/skopt/optimizer/optimizer.py:449: UserWarning: The objective has been evaluated at this point before.\n",
            "  warnings.warn(\"The objective has been evaluated \"\n",
            "/usr/local/lib/python3.7/dist-packages/skopt/optimizer/optimizer.py:449: UserWarning: The objective has been evaluated at this point before.\n",
            "  warnings.warn(\"The objective has been evaluated \"\n",
            "/usr/local/lib/python3.7/dist-packages/skopt/optimizer/optimizer.py:449: UserWarning: The objective has been evaluated at this point before.\n",
            "  warnings.warn(\"The objective has been evaluated \"\n",
            "/usr/local/lib/python3.7/dist-packages/skopt/optimizer/optimizer.py:449: UserWarning: The objective has been evaluated at this point before.\n",
            "  warnings.warn(\"The objective has been evaluated \"\n",
            "/usr/local/lib/python3.7/dist-packages/skopt/optimizer/optimizer.py:449: UserWarning: The objective has been evaluated at this point before.\n",
            "  warnings.warn(\"The objective has been evaluated \"\n",
            "/usr/local/lib/python3.7/dist-packages/skopt/optimizer/optimizer.py:449: UserWarning: The objective has been evaluated at this point before.\n",
            "  warnings.warn(\"The objective has been evaluated \"\n",
            "/usr/local/lib/python3.7/dist-packages/skopt/optimizer/optimizer.py:449: UserWarning: The objective has been evaluated at this point before.\n",
            "  warnings.warn(\"The objective has been evaluated \"\n"
          ]
        }
      ]
    },
    {
      "cell_type": "code",
      "metadata": {
        "colab": {
          "base_uri": "https://localhost:8080/"
        },
        "id": "8ZXkMY5D0ZjL",
        "outputId": "6b628137-6b83-495b-b741-6132e36396e4"
      },
      "source": [
        "bayes_logreg.best_params_"
      ],
      "execution_count": null,
      "outputs": [
        {
          "output_type": "execute_result",
          "data": {
            "text/plain": [
              "OrderedDict([('C', 100.0), ('penalty', 'l2')])"
            ]
          },
          "metadata": {},
          "execution_count": 59
        }
      ]
    },
    {
      "cell_type": "code",
      "metadata": {
        "colab": {
          "base_uri": "https://localhost:8080/"
        },
        "id": "RuRaPVHg0cC7",
        "outputId": "1d31264d-70d1-4c58-be15-8f247a6e564d"
      },
      "source": [
        "cls_logreg_bayes = LogisticRegression(solver='liblinear', verbose=True, C= 100, penalty= 'l2')\n",
        "before=time()\n",
        "cls_logreg_bayes.fit(X_transformed_and_selected, labels)\n",
        "time_passed_logreg_2=time()-before"
      ],
      "execution_count": null,
      "outputs": [
        {
          "output_type": "stream",
          "name": "stdout",
          "text": [
            "[LibLinear]"
          ]
        }
      ]
    },
    {
      "cell_type": "code",
      "metadata": {
        "id": "pwfg4w7-1qK8"
      },
      "source": [
        "pipeline_logreg_bayes = Pipeline(\n",
        "    [\n",
        "        ('vectorizer', vectorizer),\n",
        "        ('additional_features', transformer),\n",
        "        ('selector', selector),\n",
        "        ('final_classifier', cls_logreg_bayes)\n",
        "    ]\n",
        ")"
      ],
      "execution_count": null,
      "outputs": []
    },
    {
      "cell_type": "code",
      "metadata": {
        "id": "m4xOw6bQ1qK9"
      },
      "source": [
        "probabilities_logreg_bayes = pipeline_logreg_bayes.predict_proba(texts_for_testing)"
      ],
      "execution_count": null,
      "outputs": []
    },
    {
      "cell_type": "code",
      "metadata": {
        "id": "hSJ3rw8j2AqU"
      },
      "source": [
        "predicted_labels_logreg_bayes=pipeline_logreg_bayes.predict(texts_for_testing)"
      ],
      "execution_count": null,
      "outputs": []
    },
    {
      "cell_type": "markdown",
      "metadata": {
        "id": "GfzakFawvo9r"
      },
      "source": [
        "4. Логистическая регрессия со **стохастической** градиентной оптимизацей при обучении с подбором гиперпараметров с помощью **Байесовской оптимизации**"
      ]
    },
    {
      "cell_type": "code",
      "metadata": {
        "id": "G_yeB_ro3By3"
      },
      "source": [
        "bayes_sgd = BayesSearchCV(SGDClassifier(loss='log'),\n",
        "{\n",
        "'alpha': [1e-4,1e-3,1e-2, 1e-1],'penalty': ['l1', 'l2']},\n",
        "n_iter=32,\n",
        "random_state=0,\n",
        "n_jobs=-1)"
      ],
      "execution_count": null,
      "outputs": []
    },
    {
      "cell_type": "code",
      "metadata": {
        "colab": {
          "base_uri": "https://localhost:8080/"
        },
        "id": "7fOeVAHh3Tx_",
        "outputId": "7adef41d-3e8f-4cde-d163-e2a17f06efdf"
      },
      "source": [
        "before=time()\n",
        "bayes_sgd.fit(X_transformed_and_selected,labels)\n",
        "time_passed_bayes_2=time()-before"
      ],
      "execution_count": null,
      "outputs": [
        {
          "output_type": "stream",
          "name": "stderr",
          "text": [
            "/usr/local/lib/python3.7/dist-packages/skopt/optimizer/optimizer.py:449: UserWarning: The objective has been evaluated at this point before.\n",
            "  warnings.warn(\"The objective has been evaluated \"\n",
            "/usr/local/lib/python3.7/dist-packages/skopt/optimizer/optimizer.py:449: UserWarning: The objective has been evaluated at this point before.\n",
            "  warnings.warn(\"The objective has been evaluated \"\n",
            "/usr/local/lib/python3.7/dist-packages/skopt/optimizer/optimizer.py:449: UserWarning: The objective has been evaluated at this point before.\n",
            "  warnings.warn(\"The objective has been evaluated \"\n",
            "/usr/local/lib/python3.7/dist-packages/skopt/optimizer/optimizer.py:449: UserWarning: The objective has been evaluated at this point before.\n",
            "  warnings.warn(\"The objective has been evaluated \"\n",
            "/usr/local/lib/python3.7/dist-packages/skopt/optimizer/optimizer.py:449: UserWarning: The objective has been evaluated at this point before.\n",
            "  warnings.warn(\"The objective has been evaluated \"\n",
            "/usr/local/lib/python3.7/dist-packages/skopt/optimizer/optimizer.py:449: UserWarning: The objective has been evaluated at this point before.\n",
            "  warnings.warn(\"The objective has been evaluated \"\n",
            "/usr/local/lib/python3.7/dist-packages/skopt/optimizer/optimizer.py:449: UserWarning: The objective has been evaluated at this point before.\n",
            "  warnings.warn(\"The objective has been evaluated \"\n",
            "/usr/local/lib/python3.7/dist-packages/skopt/optimizer/optimizer.py:449: UserWarning: The objective has been evaluated at this point before.\n",
            "  warnings.warn(\"The objective has been evaluated \"\n",
            "/usr/local/lib/python3.7/dist-packages/skopt/optimizer/optimizer.py:449: UserWarning: The objective has been evaluated at this point before.\n",
            "  warnings.warn(\"The objective has been evaluated \"\n",
            "/usr/local/lib/python3.7/dist-packages/skopt/optimizer/optimizer.py:449: UserWarning: The objective has been evaluated at this point before.\n",
            "  warnings.warn(\"The objective has been evaluated \"\n",
            "/usr/local/lib/python3.7/dist-packages/skopt/optimizer/optimizer.py:449: UserWarning: The objective has been evaluated at this point before.\n",
            "  warnings.warn(\"The objective has been evaluated \"\n",
            "/usr/local/lib/python3.7/dist-packages/skopt/optimizer/optimizer.py:449: UserWarning: The objective has been evaluated at this point before.\n",
            "  warnings.warn(\"The objective has been evaluated \"\n",
            "/usr/local/lib/python3.7/dist-packages/skopt/optimizer/optimizer.py:449: UserWarning: The objective has been evaluated at this point before.\n",
            "  warnings.warn(\"The objective has been evaluated \"\n",
            "/usr/local/lib/python3.7/dist-packages/skopt/optimizer/optimizer.py:449: UserWarning: The objective has been evaluated at this point before.\n",
            "  warnings.warn(\"The objective has been evaluated \"\n",
            "/usr/local/lib/python3.7/dist-packages/skopt/optimizer/optimizer.py:449: UserWarning: The objective has been evaluated at this point before.\n",
            "  warnings.warn(\"The objective has been evaluated \"\n",
            "/usr/local/lib/python3.7/dist-packages/skopt/optimizer/optimizer.py:449: UserWarning: The objective has been evaluated at this point before.\n",
            "  warnings.warn(\"The objective has been evaluated \"\n",
            "/usr/local/lib/python3.7/dist-packages/skopt/optimizer/optimizer.py:449: UserWarning: The objective has been evaluated at this point before.\n",
            "  warnings.warn(\"The objective has been evaluated \"\n",
            "/usr/local/lib/python3.7/dist-packages/skopt/optimizer/optimizer.py:449: UserWarning: The objective has been evaluated at this point before.\n",
            "  warnings.warn(\"The objective has been evaluated \"\n",
            "/usr/local/lib/python3.7/dist-packages/skopt/optimizer/optimizer.py:449: UserWarning: The objective has been evaluated at this point before.\n",
            "  warnings.warn(\"The objective has been evaluated \"\n",
            "/usr/local/lib/python3.7/dist-packages/skopt/optimizer/optimizer.py:449: UserWarning: The objective has been evaluated at this point before.\n",
            "  warnings.warn(\"The objective has been evaluated \"\n"
          ]
        }
      ]
    },
    {
      "cell_type": "code",
      "metadata": {
        "colab": {
          "base_uri": "https://localhost:8080/"
        },
        "id": "EwB4no3r3a7E",
        "outputId": "509d2d1f-8db3-4670-9f2e-ea45d426f1b3"
      },
      "source": [
        "bayes_sgd.best_params_"
      ],
      "execution_count": null,
      "outputs": [
        {
          "output_type": "execute_result",
          "data": {
            "text/plain": [
              "OrderedDict([('alpha', 0.0001), ('penalty', 'l2')])"
            ]
          },
          "metadata": {},
          "execution_count": 66
        }
      ]
    },
    {
      "cell_type": "code",
      "metadata": {
        "id": "fERqkecn3jt3"
      },
      "source": [
        "cls_sgd_bayes = SGDClassifier(loss='log', alpha=0.0001, penalty= 'l2')\n",
        "before=time()\n",
        "cls_sgd_bayes.fit(X_transformed_and_selected, labels)\n",
        "time_passed_sgd_2=time()-before"
      ],
      "execution_count": null,
      "outputs": []
    },
    {
      "cell_type": "code",
      "metadata": {
        "id": "DSl-oLQC3jt5"
      },
      "source": [
        "pipeline_sgd_bayes = Pipeline(\n",
        "    [\n",
        "        ('vectorizer', vectorizer),\n",
        "        ('additional_features', transformer),\n",
        "        ('selector', selector),\n",
        "        ('final_classifier', cls_sgd_bayes)\n",
        "    ]\n",
        ")"
      ],
      "execution_count": null,
      "outputs": []
    },
    {
      "cell_type": "code",
      "metadata": {
        "id": "K82WQFV23jt5"
      },
      "source": [
        "probabilities_sgd_bayes = pipeline_sgd_bayes.predict_proba(texts_for_testing)"
      ],
      "execution_count": null,
      "outputs": []
    },
    {
      "cell_type": "code",
      "metadata": {
        "id": "bdCXPkx93jt5"
      },
      "source": [
        "predicted_labels_sgd_bayes=pipeline_sgd_bayes.predict(texts_for_testing)"
      ],
      "execution_count": null,
      "outputs": []
    },
    {
      "cell_type": "markdown",
      "metadata": {
        "id": "vjmg2fBiB9ST"
      },
      "source": [
        "<h1>Результаты</h1>"
      ]
    },
    {
      "cell_type": "markdown",
      "metadata": {
        "id": "-34Yx1OMv35s"
      },
      "source": [
        "Сравним ROC-кривые для всех четырёх вариантов"
      ]
    },
    {
      "cell_type": "code",
      "metadata": {
        "colab": {
          "base_uri": "https://localhost:8080/",
          "height": 1000
        },
        "id": "qVSpuAyrV_GT",
        "outputId": "c98f4bb9-2151-4a9e-c9b8-ddc8b6b4950a"
      },
      "source": [
        "plt.figure(1)\n",
        "build_roc_curve(probabilities_logreg_grid,'Logistic regression','Grid search')\n",
        "plt.figure(2)\n",
        "plt.subplot=build_roc_curve(probabilities_sgd_grid,'SGDC','Grid search')\n",
        "plt.figure(3)\n",
        "plt.subplot=build_roc_curve(probabilities_logreg_bayes,'Logistic regression','Bayes')\n",
        "plt.figure(4)\n",
        "plt.subplot=build_roc_curve(probabilities_sgd_bayes,'SGDC','Bayes')\n",
        "plt.show()"
      ],
      "execution_count": null,
      "outputs": [
        {
          "output_type": "display_data",
          "data": {
            "image/png": "[encoded data removed]",
            "text/plain": [
              "<Figure size 432x288 with 1 Axes>"
            ]
          },
          "metadata": {
            "needs_background": "light"
          }
        },
        {
          "output_type": "display_data",
          "data": {
            "image/png": "[encoded data removed]",
            "text/plain": [
              "<Figure size 432x288 with 1 Axes>"
            ]
          },
          "metadata": {
            "needs_background": "light"
          }
        },
        {
          "output_type": "display_data",
          "data": {
            "image/png": "[encoded data removed]",
            "text/plain": [
              "<Figure size 432x288 with 1 Axes>"
            ]
          },
          "metadata": {
            "needs_background": "light"
          }
        },
        {
          "output_type": "display_data",
          "data": {
            "image/png": "[encoded data removed]",
            "text/plain": [
              "<Figure size 432x288 with 1 Axes>"
            ]
          },
          "metadata": {
            "needs_background": "light"
          }
        }
      ]
    },
    {
      "cell_type": "code",
      "metadata": {
        "colab": {
          "base_uri": "https://localhost:8080/",
          "height": 295
        },
        "id": "TIN-Q0h7ap3G",
        "outputId": "fdb06f3f-d432-44d5-9c0f-19c42a64b0bb"
      },
      "source": [
        "build_roc_curve(probabilities_logreg_grid,'Logistic regression','Grid search')\n",
        "plt.subplot=build_roc_curve(probabilities_sgd_grid,'SGDC','Grid search')\n",
        "plt.subplot=build_roc_curve(probabilities_logreg_bayes,'Logistic regression','Bayes')\n",
        "plt.subplot=build_roc_curve(probabilities_sgd_bayes,'SGDC','Bayes')\n",
        "plt.show()"
      ],
      "execution_count": null,
      "outputs": [
        {
          "output_type": "display_data",
          "data": {
            "image/png": "[encoded data removed]",
            "text/plain": [
              "<Figure size 432x288 with 1 Axes>"
            ]
          },
          "metadata": {
            "needs_background": "light"
          }
        }
      ]
    },
    {
      "cell_type": "markdown",
      "metadata": {
        "id": "4YXH8aaztfYf"
      },
      "source": [
        "Как видим, ROC-кривые почти полностью накладываются друг на друга, то есть результаты работы разных алгоритмов довольно близки."
      ]
    },
    {
      "cell_type": "markdown",
      "metadata": {
        "id": "2RWPogCqwB5h"
      },
      "source": [
        "Сравним метрики (F1-micro и F1-macro) для всех четырёх случаев"
      ]
    },
    {
      "cell_type": "code",
      "metadata": {
        "id": "8Z4PmPet7W_Z"
      },
      "source": [
        "from tabulate import tabulate"
      ],
      "execution_count": null,
      "outputs": []
    },
    {
      "cell_type": "code",
      "metadata": {
        "colab": {
          "base_uri": "https://localhost:8080/"
        },
        "id": "00LGWkLA4pQI",
        "outputId": "cf1092e5-c1ae-49c2-9ef8-28f95e9a3e93"
      },
      "source": [
        "print(tabulate([\n",
        "    ['logistic regression','grid_search',count_metrics(labels_for_testing,predicted_labels_logreg_grid)],\n",
        "    ['SGDC','grid_search',count_metrics(labels_for_testing,predicted_labels_sgd_grid)],\n",
        "    ['logistic regression','Bayes',count_metrics(labels_for_testing,predicted_labels_logreg_bayes)],\n",
        "    ['SGDC','Bayes',count_metrics(labels_for_testing,predicted_labels_sgd_bayes)]],\n",
        "    headers= ['Classifier','Parameter Search',('F1-macro','F1-micro')]))\n"
      ],
      "execution_count": null,
      "outputs": [
        {
          "output_type": "stream",
          "name": "stdout",
          "text": [
            "Classifier           Parameter Search    ('F1-macro', 'F1-micro')\n",
            "-------------------  ------------------  --------------------------\n",
            "logistic regression  grid_search         (0.467, 0.499)\n",
            "SGDC                 grid_search         (0.429, 0.475)\n",
            "logistic regression  Bayes               (0.48, 0.504)\n",
            "SGDC                 Bayes               (0.33, 0.445)\n"
          ]
        }
      ]
    },
    {
      "cell_type": "markdown",
      "metadata": {
        "id": "f1oya0ocwLV0"
      },
      "source": [
        "Судя по метрикам, **пакетная** реализация оптимизации при обучении в сочетании с подюором параметров с помощью **Байесовской** оптимизации дает лучший результат. Впрочем, метрики, полученные во всех случаях отличаются незначительно (и при этом, к сожалению, все они не высоки).\n",
        "\n",
        "F1-micro во всех случаях оказалась выше, чем F1-macro. Для того, чтобы понять почему, сформируем classification report для результатов одного из алгоритмов, например, того,для которого эта разница наиболее заметна (SGDClassifier + BayesSearchSV)."
      ]
    },
    {
      "cell_type": "code",
      "metadata": {
        "id": "ZwiTdnWx0Vjb"
      },
      "source": [
        "from sklearn.metrics import classification_report"
      ],
      "execution_count": null,
      "outputs": []
    },
    {
      "cell_type": "code",
      "metadata": {
        "colab": {
          "base_uri": "https://localhost:8080/"
        },
        "id": "X4DAfpMx0RJz",
        "outputId": "970f2cb5-fb89-4ff7-c21b-2e30f7b1f9f7"
      },
      "source": [
        "print(classification_report (labels_for_testing, predicted_labels_sgd_bayes))"
      ],
      "execution_count": null,
      "outputs": [
        {
          "output_type": "stream",
          "name": "stdout",
          "text": [
            "              precision    recall  f1-score   support\n",
            "\n",
            "    negative       0.57      0.47      0.52       767\n",
            "     neutral       0.76      0.89      0.82      2238\n",
            "    positive       0.86      0.08      0.14       308\n",
            "\n",
            "    accuracy                           0.72      3313\n",
            "   macro avg       0.73      0.48      0.49      3313\n",
            "weighted avg       0.72      0.72      0.69      3313\n",
            "\n"
          ]
        }
      ]
    },
    {
      "cell_type": "markdown",
      "metadata": {
        "id": "oGZRaTfk1rah"
      },
      "source": [
        "Как видим, положительных твитов в 2,5 раза меньше, чем отрицательных. \n",
        "Положительные твиты классифицируются хуже (возможно,опять же, из-за ассиметрии классов, на что указывает низкая полнота), поэтому F1 для них ниже.\n",
        "При микроусреднении это не так заметно, т.к. на него в большей степени влияют отрицательные твиты (потому что их больше), которые классифицируются лучше. При макроусреднении ассиметрия классов уже \"не спасает\", поэтому эта метрика получается ниже."
      ]
    },
    {
      "cell_type": "markdown",
      "metadata": {
        "id": "_4RQTGAaw26A"
      },
      "source": [
        "Сравним алгоритмы по критерию вычислительного быстродействия "
      ]
    },
    {
      "cell_type": "code",
      "metadata": {
        "colab": {
          "base_uri": "https://localhost:8080/"
        },
        "id": "nIdpPJ9wU2LS",
        "outputId": "734bf5e7-c877-43c3-f6c9-6b034fad58d5"
      },
      "source": [
        "print(tabulate([\n",
        "    ['Grid', time_passed_grid_1,time_passed_grid_2],\n",
        "    ['Bayes',time_passed_bayes_1,time_passed_bayes_2]],\n",
        "    headers= ['Search','','']))"
      ],
      "execution_count": null,
      "outputs": [
        {
          "output_type": "stream",
          "name": "stdout",
          "text": [
            "Search\n",
            "--------  --------  --------\n",
            "Grid       7.18517   1.84492\n",
            "Bayes     40.727    32.7667\n"
          ]
        }
      ]
    },
    {
      "cell_type": "markdown",
      "metadata": {
        "id": "s9z6nmCnxd-l"
      },
      "source": [
        "Байесовская оптимизации выполняется в несколько раз дольше, но, как мы убедились ранее, даёт лучший результат"
      ]
    },
    {
      "cell_type": "code",
      "metadata": {
        "colab": {
          "base_uri": "https://localhost:8080/"
        },
        "id": "sF7_L-PRVnRI",
        "outputId": "ddf34df2-5b2c-429d-8102-d81050013727"
      },
      "source": [
        "print(tabulate([\n",
        "    ['LogRegression', time_passed_logreg_1,time_passed_logreg_2],\n",
        "    ['SGDC',time_passed_sgd_1,time_passed_sgd_2]],\n",
        "    headers= ['Classifier','','']))"
      ],
      "execution_count": null,
      "outputs": [
        {
          "output_type": "stream",
          "name": "stdout",
          "text": [
            "Classifier\n",
            "-------------  ---------  ---------\n",
            "LogRegression  0.251502   0.198388\n",
            "SGDC           0.0999379  0.0711842\n"
          ]
        }
      ]
    },
    {
      "cell_type": "markdown",
      "metadata": {
        "id": "obKjFJSZxojE"
      },
      "source": [
        "Стохастическая реализация обучения работает быстрее."
      ]
    },
    {
      "cell_type": "markdown",
      "metadata": {
        "id": "NAKUHs3l-smX"
      },
      "source": [
        "[Jupyter-ноутбук с классификацией отзывов о телекомах. ](https://colab.research.google.com/drive/1ash9Q6QVcqE5iBRYC9KhYVwHmVhikijY#scrollTo=f1oya0ocwLV0)\n",
        "\n",
        "**Краткое содержание:** метрики немного выше, чем для банков: F1-macro от 0,45 и F1-micro от 0,6. Отрицательные твиты классифицируются лучше, чем здесь, а положительные - хуже. При этом дисбаланс классов выражен ещё сильнее (отрицательных твитов в 5 раз больше, чем положительных). На мой взглад, макроусреднение в таком случаее более показательно, а по макроусреднению лучшим оказалась та же комбинация методов (LogisticRegression + BayesSearchCV)."
      ]
    }
  ]
}